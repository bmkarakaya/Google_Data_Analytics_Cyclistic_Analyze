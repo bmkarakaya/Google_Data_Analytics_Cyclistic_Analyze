{
 "cells": [
  {
   "cell_type": "code",
   "execution_count": 1,
   "metadata": {},
   "outputs": [],
   "source": [
    "# Libraries\n",
    "import pandas as pd\n",
    "import numpy as np\n",
    "from statistics import mode\n",
    "from datetime import datetime"
   ]
  },
  {
   "cell_type": "code",
   "execution_count": 2,
   "metadata": {},
   "outputs": [],
   "source": [
    "# Q1 csv files (2023-01, 2023-02, 2023-03)\n",
    "df1 = pd.read_csv(\"C:/Users/burak/OneDrive/Masaüstü/Google Data Analytics/csv.data/202301-divvy-tripdata.csv\")\n",
    "df2 = pd.read_csv(\"C:/Users/burak/OneDrive/Masaüstü/Google Data Analytics/csv.data/202302-divvy-tripdata.csv\")\n",
    "df3 = pd.read_csv(\"C:/Users/burak/OneDrive/Masaüstü/Google Data Analytics/csv.data/202303-divvy-tripdata.csv\")"
   ]
  },
  {
   "cell_type": "code",
   "execution_count": 3,
   "metadata": {},
   "outputs": [],
   "source": [
    "# Merge function  \n",
    "def merge_df(*dfs):\n",
    "    merged_df = pd.concat(dfs, ignore_index = True)\n",
    "    return merged_df\n",
    "\n",
    "df0 = merge_df(df1, df2, df3)"
   ]
  },
  {
   "cell_type": "code",
   "execution_count": 4,
   "metadata": {},
   "outputs": [
    {
     "data": {
      "text/html": [
       "<div>\n",
       "<style scoped>\n",
       "    .dataframe tbody tr th:only-of-type {\n",
       "        vertical-align: middle;\n",
       "    }\n",
       "\n",
       "    .dataframe tbody tr th {\n",
       "        vertical-align: top;\n",
       "    }\n",
       "\n",
       "    .dataframe thead th {\n",
       "        text-align: right;\n",
       "    }\n",
       "</style>\n",
       "<table border=\"1\" class=\"dataframe\">\n",
       "  <thead>\n",
       "    <tr style=\"text-align: right;\">\n",
       "      <th></th>\n",
       "      <th>ride_id</th>\n",
       "      <th>rideable_type</th>\n",
       "      <th>started_at</th>\n",
       "      <th>ended_at</th>\n",
       "      <th>start_station_name</th>\n",
       "      <th>start_station_id</th>\n",
       "      <th>end_station_name</th>\n",
       "      <th>end_station_id</th>\n",
       "      <th>start_lat</th>\n",
       "      <th>start_lng</th>\n",
       "      <th>end_lat</th>\n",
       "      <th>end_lng</th>\n",
       "      <th>member_casual</th>\n",
       "    </tr>\n",
       "  </thead>\n",
       "  <tbody>\n",
       "    <tr>\n",
       "      <th>0</th>\n",
       "      <td>F96D5A74A3E41399</td>\n",
       "      <td>electric_bike</td>\n",
       "      <td>2023-01-21 20:05:42</td>\n",
       "      <td>2023-01-21 20:16:33</td>\n",
       "      <td>Lincoln Ave &amp; Fullerton Ave</td>\n",
       "      <td>TA1309000058</td>\n",
       "      <td>Hampden Ct &amp; Diversey Ave</td>\n",
       "      <td>202480.0</td>\n",
       "      <td>41.924074</td>\n",
       "      <td>-87.646278</td>\n",
       "      <td>41.930000</td>\n",
       "      <td>-87.640000</td>\n",
       "      <td>member</td>\n",
       "    </tr>\n",
       "    <tr>\n",
       "      <th>1</th>\n",
       "      <td>13CB7EB698CEDB88</td>\n",
       "      <td>classic_bike</td>\n",
       "      <td>2023-01-10 15:37:36</td>\n",
       "      <td>2023-01-10 15:46:05</td>\n",
       "      <td>Kimbark Ave &amp; 53rd St</td>\n",
       "      <td>TA1309000037</td>\n",
       "      <td>Greenwood Ave &amp; 47th St</td>\n",
       "      <td>TA1308000002</td>\n",
       "      <td>41.799568</td>\n",
       "      <td>-87.594747</td>\n",
       "      <td>41.809835</td>\n",
       "      <td>-87.599383</td>\n",
       "      <td>member</td>\n",
       "    </tr>\n",
       "    <tr>\n",
       "      <th>2</th>\n",
       "      <td>BD88A2E670661CE5</td>\n",
       "      <td>electric_bike</td>\n",
       "      <td>2023-01-02 07:51:57</td>\n",
       "      <td>2023-01-02 08:05:11</td>\n",
       "      <td>Western Ave &amp; Lunt Ave</td>\n",
       "      <td>RP-005</td>\n",
       "      <td>Valli Produce - Evanston Plaza</td>\n",
       "      <td>599</td>\n",
       "      <td>42.008571</td>\n",
       "      <td>-87.690483</td>\n",
       "      <td>42.039742</td>\n",
       "      <td>-87.699413</td>\n",
       "      <td>casual</td>\n",
       "    </tr>\n",
       "    <tr>\n",
       "      <th>3</th>\n",
       "      <td>C90792D034FED968</td>\n",
       "      <td>classic_bike</td>\n",
       "      <td>2023-01-22 10:52:58</td>\n",
       "      <td>2023-01-22 11:01:44</td>\n",
       "      <td>Kimbark Ave &amp; 53rd St</td>\n",
       "      <td>TA1309000037</td>\n",
       "      <td>Greenwood Ave &amp; 47th St</td>\n",
       "      <td>TA1308000002</td>\n",
       "      <td>41.799568</td>\n",
       "      <td>-87.594747</td>\n",
       "      <td>41.809835</td>\n",
       "      <td>-87.599383</td>\n",
       "      <td>member</td>\n",
       "    </tr>\n",
       "    <tr>\n",
       "      <th>4</th>\n",
       "      <td>3397017529188E8A</td>\n",
       "      <td>classic_bike</td>\n",
       "      <td>2023-01-12 13:58:01</td>\n",
       "      <td>2023-01-12 14:13:20</td>\n",
       "      <td>Kimbark Ave &amp; 53rd St</td>\n",
       "      <td>TA1309000037</td>\n",
       "      <td>Greenwood Ave &amp; 47th St</td>\n",
       "      <td>TA1308000002</td>\n",
       "      <td>41.799568</td>\n",
       "      <td>-87.594747</td>\n",
       "      <td>41.809835</td>\n",
       "      <td>-87.599383</td>\n",
       "      <td>member</td>\n",
       "    </tr>\n",
       "  </tbody>\n",
       "</table>\n",
       "</div>"
      ],
      "text/plain": [
       "            ride_id  rideable_type           started_at             ended_at  \\\n",
       "0  F96D5A74A3E41399  electric_bike  2023-01-21 20:05:42  2023-01-21 20:16:33   \n",
       "1  13CB7EB698CEDB88   classic_bike  2023-01-10 15:37:36  2023-01-10 15:46:05   \n",
       "2  BD88A2E670661CE5  electric_bike  2023-01-02 07:51:57  2023-01-02 08:05:11   \n",
       "3  C90792D034FED968   classic_bike  2023-01-22 10:52:58  2023-01-22 11:01:44   \n",
       "4  3397017529188E8A   classic_bike  2023-01-12 13:58:01  2023-01-12 14:13:20   \n",
       "\n",
       "            start_station_name start_station_id  \\\n",
       "0  Lincoln Ave & Fullerton Ave     TA1309000058   \n",
       "1        Kimbark Ave & 53rd St     TA1309000037   \n",
       "2       Western Ave & Lunt Ave           RP-005   \n",
       "3        Kimbark Ave & 53rd St     TA1309000037   \n",
       "4        Kimbark Ave & 53rd St     TA1309000037   \n",
       "\n",
       "                 end_station_name end_station_id  start_lat  start_lng  \\\n",
       "0       Hampden Ct & Diversey Ave       202480.0  41.924074 -87.646278   \n",
       "1         Greenwood Ave & 47th St   TA1308000002  41.799568 -87.594747   \n",
       "2  Valli Produce - Evanston Plaza            599  42.008571 -87.690483   \n",
       "3         Greenwood Ave & 47th St   TA1308000002  41.799568 -87.594747   \n",
       "4         Greenwood Ave & 47th St   TA1308000002  41.799568 -87.594747   \n",
       "\n",
       "     end_lat    end_lng member_casual  \n",
       "0  41.930000 -87.640000        member  \n",
       "1  41.809835 -87.599383        member  \n",
       "2  42.039742 -87.699413        casual  \n",
       "3  41.809835 -87.599383        member  \n",
       "4  41.809835 -87.599383        member  "
      ]
     },
     "execution_count": 4,
     "metadata": {},
     "output_type": "execute_result"
    }
   ],
   "source": [
    "df0.head()"
   ]
  },
  {
   "cell_type": "code",
   "execution_count": 5,
   "metadata": {},
   "outputs": [
    {
     "data": {
      "text/html": [
       "<div>\n",
       "<style scoped>\n",
       "    .dataframe tbody tr th:only-of-type {\n",
       "        vertical-align: middle;\n",
       "    }\n",
       "\n",
       "    .dataframe tbody tr th {\n",
       "        vertical-align: top;\n",
       "    }\n",
       "\n",
       "    .dataframe thead th {\n",
       "        text-align: right;\n",
       "    }\n",
       "</style>\n",
       "<table border=\"1\" class=\"dataframe\">\n",
       "  <thead>\n",
       "    <tr style=\"text-align: right;\">\n",
       "      <th></th>\n",
       "      <th>ride_id</th>\n",
       "      <th>rideable_type</th>\n",
       "      <th>started_at</th>\n",
       "      <th>ended_at</th>\n",
       "      <th>start_station_name</th>\n",
       "      <th>start_station_id</th>\n",
       "      <th>end_station_name</th>\n",
       "      <th>end_station_id</th>\n",
       "      <th>member_casual</th>\n",
       "    </tr>\n",
       "  </thead>\n",
       "  <tbody>\n",
       "    <tr>\n",
       "      <th>count</th>\n",
       "      <td>639424</td>\n",
       "      <td>639424</td>\n",
       "      <td>639424</td>\n",
       "      <td>639424</td>\n",
       "      <td>551320</td>\n",
       "      <td>551188</td>\n",
       "      <td>546408</td>\n",
       "      <td>546267</td>\n",
       "      <td>639424</td>\n",
       "    </tr>\n",
       "    <tr>\n",
       "      <th>unique</th>\n",
       "      <td>639424</td>\n",
       "      <td>3</td>\n",
       "      <td>594512</td>\n",
       "      <td>595322</td>\n",
       "      <td>1102</td>\n",
       "      <td>1066</td>\n",
       "      <td>1120</td>\n",
       "      <td>1082</td>\n",
       "      <td>2</td>\n",
       "    </tr>\n",
       "    <tr>\n",
       "      <th>top</th>\n",
       "      <td>F96D5A74A3E41399</td>\n",
       "      <td>electric_bike</td>\n",
       "      <td>2023-03-21 17:27:42</td>\n",
       "      <td>2023-03-22 17:30:49</td>\n",
       "      <td>University Ave &amp; 57th St</td>\n",
       "      <td>KA1503000071</td>\n",
       "      <td>University Ave &amp; 57th St</td>\n",
       "      <td>KA1503000071</td>\n",
       "      <td>member</td>\n",
       "    </tr>\n",
       "    <tr>\n",
       "      <th>freq</th>\n",
       "      <td>1</td>\n",
       "      <td>345206</td>\n",
       "      <td>5</td>\n",
       "      <td>11</td>\n",
       "      <td>5908</td>\n",
       "      <td>5908</td>\n",
       "      <td>5908</td>\n",
       "      <td>5908</td>\n",
       "      <td>494199</td>\n",
       "    </tr>\n",
       "  </tbody>\n",
       "</table>\n",
       "</div>"
      ],
      "text/plain": [
       "                 ride_id  rideable_type           started_at  \\\n",
       "count             639424         639424               639424   \n",
       "unique            639424              3               594512   \n",
       "top     F96D5A74A3E41399  electric_bike  2023-03-21 17:27:42   \n",
       "freq                   1         345206                    5   \n",
       "\n",
       "                   ended_at        start_station_name start_station_id  \\\n",
       "count                639424                    551320           551188   \n",
       "unique               595322                      1102             1066   \n",
       "top     2023-03-22 17:30:49  University Ave & 57th St     KA1503000071   \n",
       "freq                     11                      5908             5908   \n",
       "\n",
       "                end_station_name end_station_id member_casual  \n",
       "count                     546408         546267        639424  \n",
       "unique                      1120           1082             2  \n",
       "top     University Ave & 57th St   KA1503000071        member  \n",
       "freq                        5908           5908        494199  "
      ]
     },
     "execution_count": 5,
     "metadata": {},
     "output_type": "execute_result"
    }
   ],
   "source": [
    "df0.describe(include = [\"object\"])"
   ]
  },
  {
   "cell_type": "code",
   "execution_count": 6,
   "metadata": {},
   "outputs": [
    {
     "data": {
      "text/plain": [
       "ride_id                   0\n",
       "rideable_type             0\n",
       "started_at                0\n",
       "ended_at                  0\n",
       "start_station_name    88104\n",
       "start_station_id      88236\n",
       "end_station_name      93016\n",
       "end_station_id        93157\n",
       "start_lat                 0\n",
       "start_lng                 0\n",
       "end_lat                 426\n",
       "end_lng                 426\n",
       "member_casual             0\n",
       "dtype: int64"
      ]
     },
     "execution_count": 6,
     "metadata": {},
     "output_type": "execute_result"
    }
   ],
   "source": [
    "df0.isnull().sum()"
   ]
  },
  {
   "cell_type": "code",
   "execution_count": 7,
   "metadata": {},
   "outputs": [
    {
     "data": {
      "text/plain": [
       "ride_id                object\n",
       "rideable_type          object\n",
       "started_at             object\n",
       "ended_at               object\n",
       "start_station_name     object\n",
       "start_station_id       object\n",
       "end_station_name       object\n",
       "end_station_id         object\n",
       "start_lat             float64\n",
       "start_lng             float64\n",
       "end_lat               float64\n",
       "end_lng               float64\n",
       "member_casual          object\n",
       "dtype: object"
      ]
     },
     "execution_count": 7,
     "metadata": {},
     "output_type": "execute_result"
    }
   ],
   "source": [
    "df0.dtypes"
   ]
  },
  {
   "cell_type": "code",
   "execution_count": 8,
   "metadata": {},
   "outputs": [],
   "source": [
    "# Converting dtypes\n",
    "df0[\"started_at\"] = pd.to_datetime(df0[\"started_at\"], errors=\"coerce\")\n",
    "df0[\"ended_at\"] = pd.to_datetime(df0[\"ended_at\"], errors=\"coerce\")"
   ]
  },
  {
   "cell_type": "code",
   "execution_count": 9,
   "metadata": {},
   "outputs": [
    {
     "data": {
      "text/plain": [
       "ride_id                       object\n",
       "rideable_type                 object\n",
       "started_at            datetime64[ns]\n",
       "ended_at              datetime64[ns]\n",
       "start_station_name            object\n",
       "start_station_id              object\n",
       "end_station_name              object\n",
       "end_station_id                object\n",
       "start_lat                    float64\n",
       "start_lng                    float64\n",
       "end_lat                      float64\n",
       "end_lng                      float64\n",
       "member_casual                 object\n",
       "dtype: object"
      ]
     },
     "execution_count": 9,
     "metadata": {},
     "output_type": "execute_result"
    }
   ],
   "source": [
    "df0.dtypes"
   ]
  },
  {
   "cell_type": "code",
   "execution_count": 10,
   "metadata": {},
   "outputs": [
    {
     "data": {
      "text/plain": [
       "0        0 days 00:10:51\n",
       "1        0 days 00:08:29\n",
       "2        0 days 00:13:14\n",
       "3        0 days 00:08:46\n",
       "4        0 days 00:15:19\n",
       "               ...      \n",
       "639419   0 days 00:06:23\n",
       "639420   0 days 00:26:03\n",
       "639421   0 days 00:02:35\n",
       "639422   0 days 00:07:06\n",
       "639423   0 days 00:05:44\n",
       "Name: ride_length, Length: 639424, dtype: timedelta64[ns]"
      ]
     },
     "execution_count": 10,
     "metadata": {},
     "output_type": "execute_result"
    }
   ],
   "source": [
    "df0[\"ride_length\"] = df0[\"ended_at\"] - df0[\"started_at\"]\n",
    "\n",
    "df0[\"ride_length\"]"
   ]
  },
  {
   "cell_type": "code",
   "execution_count": 11,
   "metadata": {},
   "outputs": [],
   "source": [
    "# sunday = 1, saturday = 7\n",
    "df0[\"day_of_week\"] = df0[\"started_at\"].apply(lambda x: (x.dayofweek + 1) % 7 + 1)"
   ]
  },
  {
   "cell_type": "code",
   "execution_count": 12,
   "metadata": {},
   "outputs": [
    {
     "name": "stdout",
     "output_type": "stream",
     "text": [
      "0 days 00:13:11.478791850\n",
      "----------------------------------------\n",
      "23 days 08:03:44\n",
      "----------------------------------------\n",
      "0    3\n",
      "Name: day_of_week, dtype: int64\n",
      "----------------------------------------\n",
      "-1 days +23:56:44\n"
     ]
    }
   ],
   "source": [
    "print(df0[\"ride_length\"].mean())\n",
    "print(\"-\"*40)\n",
    "print(df0[\"ride_length\"].max()) # anomaly detected\n",
    "print(\"-\"*40)\n",
    "print(df0[\"day_of_week\"].mode())\n",
    "print(\"-\"*40)\n",
    "print(df0[\"ride_length\"].min()) # anomaly detected"
   ]
  },
  {
   "cell_type": "code",
   "execution_count": 13,
   "metadata": {},
   "outputs": [
    {
     "name": "stdout",
     "output_type": "stream",
     "text": [
      "                 ride_id  rideable_type          started_at  \\\n",
      "379648  4EFC95304E050AA1  electric_bike 2023-02-04 13:08:08   \n",
      "\n",
      "                  ended_at start_station_name start_station_id  \\\n",
      "379648 2023-02-04 13:04:52                NaN              NaN   \n",
      "\n",
      "               end_station_name end_station_id  start_lat  start_lng  \\\n",
      "379648  Dearborn St & Monroe St   TA1305000006      41.88     -87.63   \n",
      "\n",
      "         end_lat    end_lng member_casual       ride_length  day_of_week  \n",
      "379648  41.88132 -87.629521        member -1 days +23:56:44            7  \n"
     ]
    }
   ],
   "source": [
    "ridelength_min = df0[df0[\"ride_length\"] == df0[\"ride_length\"].min()]\n",
    "\n",
    "print(ridelength_min)"
   ]
  },
  {
   "cell_type": "code",
   "execution_count": 14,
   "metadata": {},
   "outputs": [
    {
     "name": "stdout",
     "output_type": "stream",
     "text": [
      "                ride_id rideable_type          started_at            ended_at  \\\n",
      "72088  307CA01BAE3CC7E3   docked_bike 2023-01-08 11:08:52 2023-01-31 19:12:36   \n",
      "\n",
      "          start_station_name start_station_id end_station_name end_station_id  \\\n",
      "72088  Michigan Ave & 8th St              623              NaN            NaN   \n",
      "\n",
      "       start_lat  start_lng  end_lat  end_lng member_casual      ride_length  \\\n",
      "72088  41.872773 -87.623981      NaN      NaN        casual 23 days 08:03:44   \n",
      "\n",
      "       day_of_week  \n",
      "72088            1  \n"
     ]
    }
   ],
   "source": [
    "ridelength_max = df0[df0[\"ride_length\"] == df0[\"ride_length\"].max()]\n",
    "\n",
    "print(ridelength_max)"
   ]
  },
  {
   "cell_type": "code",
   "execution_count": 15,
   "metadata": {},
   "outputs": [],
   "source": [
    "df0[\"anomaly_period_negative\"] = df0[\"ended_at\"] < df0[\"started_at\"]\n",
    "df0[\"anomaly_period_positive\"] = df0[\"ride_length\"] > pd.Timedelta(\"1 days\")"
   ]
  },
  {
   "cell_type": "code",
   "execution_count": 16,
   "metadata": {},
   "outputs": [
    {
     "data": {
      "text/plain": [
       "ride_id                    1\n",
       "rideable_type              1\n",
       "started_at                 1\n",
       "ended_at                   1\n",
       "start_station_name         0\n",
       "start_station_id           0\n",
       "end_station_name           1\n",
       "end_station_id             1\n",
       "start_lat                  1\n",
       "start_lng                  1\n",
       "end_lat                    1\n",
       "end_lng                    1\n",
       "member_casual              1\n",
       "ride_length                1\n",
       "day_of_week                1\n",
       "anomaly_period_negative    1\n",
       "anomaly_period_positive    1\n",
       "dtype: int64"
      ]
     },
     "execution_count": 16,
     "metadata": {},
     "output_type": "execute_result"
    }
   ],
   "source": [
    "df0[df0[\"anomaly_period_negative\"]].count()"
   ]
  },
  {
   "cell_type": "code",
   "execution_count": 17,
   "metadata": {},
   "outputs": [
    {
     "data": {
      "text/plain": [
       "ride_id                    387\n",
       "rideable_type              387\n",
       "started_at                 387\n",
       "ended_at                   387\n",
       "start_station_name         387\n",
       "start_station_id           387\n",
       "end_station_name            12\n",
       "end_station_id              12\n",
       "start_lat                  387\n",
       "start_lng                  387\n",
       "end_lat                     17\n",
       "end_lng                     17\n",
       "member_casual              387\n",
       "ride_length                387\n",
       "day_of_week                387\n",
       "anomaly_period_negative    387\n",
       "anomaly_period_positive    387\n",
       "dtype: int64"
      ]
     },
     "execution_count": 17,
     "metadata": {},
     "output_type": "execute_result"
    }
   ],
   "source": [
    "df0[df0[\"anomaly_period_positive\"]].count()"
   ]
  },
  {
   "cell_type": "code",
   "execution_count": 18,
   "metadata": {},
   "outputs": [],
   "source": [
    "df0.drop(df0[df0[\"anomaly_period_negative\"] | df0[\"anomaly_period_positive\"]].index, inplace=True)"
   ]
  },
  {
   "cell_type": "code",
   "execution_count": 19,
   "metadata": {},
   "outputs": [
    {
     "name": "stdout",
     "output_type": "stream",
     "text": [
      "ride_id                    35\n",
      "rideable_type              35\n",
      "started_at                 35\n",
      "ended_at                   35\n",
      "start_station_name         35\n",
      "start_station_id           35\n",
      "end_station_name           26\n",
      "end_station_id             26\n",
      "start_lat                  35\n",
      "start_lng                  35\n",
      "end_lat                    35\n",
      "end_lng                    35\n",
      "member_casual              35\n",
      "ride_length                35\n",
      "day_of_week                35\n",
      "anomaly_period_negative    35\n",
      "anomaly_period_positive    35\n",
      "dtype: int64\n"
     ]
    }
   ],
   "source": [
    "zero_length_rides = df0[df0[\"ride_length\"] == pd.Timedelta(0)]\n",
    "print(zero_length_rides.count())"
   ]
  },
  {
   "cell_type": "code",
   "execution_count": 20,
   "metadata": {},
   "outputs": [],
   "source": [
    "df0[\"anomaly_period_zero\"] = df0[\"ride_length\"] == pd.Timedelta(\"0 seconds\")"
   ]
  },
  {
   "cell_type": "code",
   "execution_count": 21,
   "metadata": {},
   "outputs": [],
   "source": [
    "df0 = df0[df0[\"ride_length\"] != pd.Timedelta(\"0 seconds\")]"
   ]
  },
  {
   "cell_type": "code",
   "execution_count": 22,
   "metadata": {},
   "outputs": [
    {
     "data": {
      "text/plain": [
       "ride_id                    639001\n",
       "rideable_type              639001\n",
       "started_at                 639001\n",
       "ended_at                   639001\n",
       "start_station_name         550898\n",
       "start_station_id           550766\n",
       "end_station_name           546369\n",
       "end_station_id             546228\n",
       "start_lat                  639001\n",
       "start_lng                  639001\n",
       "end_lat                    638945\n",
       "end_lng                    638945\n",
       "member_casual              639001\n",
       "ride_length                639001\n",
       "day_of_week                639001\n",
       "anomaly_period_negative    639001\n",
       "anomaly_period_positive    639001\n",
       "anomaly_period_zero        639001\n",
       "dtype: int64"
      ]
     },
     "execution_count": 22,
     "metadata": {},
     "output_type": "execute_result"
    }
   ],
   "source": [
    "df0.count()"
   ]
  },
  {
   "cell_type": "code",
   "execution_count": 23,
   "metadata": {},
   "outputs": [
    {
     "data": {
      "text/plain": [
       "ride_id                             object\n",
       "rideable_type                       object\n",
       "started_at                  datetime64[ns]\n",
       "ended_at                    datetime64[ns]\n",
       "start_station_name                  object\n",
       "start_station_id                    object\n",
       "end_station_name                    object\n",
       "end_station_id                      object\n",
       "start_lat                          float64\n",
       "start_lng                          float64\n",
       "end_lat                            float64\n",
       "end_lng                            float64\n",
       "member_casual                       object\n",
       "ride_length                timedelta64[ns]\n",
       "day_of_week                          int64\n",
       "anomaly_period_negative               bool\n",
       "anomaly_period_positive               bool\n",
       "anomaly_period_zero                   bool\n",
       "dtype: object"
      ]
     },
     "execution_count": 23,
     "metadata": {},
     "output_type": "execute_result"
    }
   ],
   "source": [
    "df0.dtypes"
   ]
  },
  {
   "cell_type": "code",
   "execution_count": 24,
   "metadata": {},
   "outputs": [],
   "source": [
    "# Converting ride_length timedelta64 to integer\n",
    "df0['ride_duration_str'] = df0['ride_length'].astype(str).str.extract(r'(\\d+:\\d+:\\d+|\\d+:\\d+)')[0]\n",
    "df0['ride_duration_str'] = df0['ride_duration_str'].str.replace(\":\", \".\")\n",
    "df0[\"ride_duration_str\"] = df0[\"ride_duration_str\"].str[-8:]"
   ]
  },
  {
   "cell_type": "code",
   "execution_count": 25,
   "metadata": {},
   "outputs": [],
   "source": [
    "df0['hour'] = df0['ride_duration_str'].str.split('.').str[0].astype(float)\n",
    "df0['minute'] = df0['ride_duration_str'].str.split('.').str[1].astype(float)\n",
    "df0['second'] = df0['ride_duration_str'].str.split('.').str[2].astype(float)\n",
    "\n",
    "df0['ride_duration_int'] = df0['hour'] * 60 + df0['minute'] + df0['second'] / 60\n",
    "\n",
    "df0['ride_duration_int'] = df0['ride_duration_int'].round(2)"
   ]
  },
  {
   "cell_type": "code",
   "execution_count": 26,
   "metadata": {},
   "outputs": [
    {
     "data": {
      "text/html": [
       "<div>\n",
       "<style scoped>\n",
       "    .dataframe tbody tr th:only-of-type {\n",
       "        vertical-align: middle;\n",
       "    }\n",
       "\n",
       "    .dataframe tbody tr th {\n",
       "        vertical-align: top;\n",
       "    }\n",
       "\n",
       "    .dataframe thead th {\n",
       "        text-align: right;\n",
       "    }\n",
       "</style>\n",
       "<table border=\"1\" class=\"dataframe\">\n",
       "  <thead>\n",
       "    <tr style=\"text-align: right;\">\n",
       "      <th></th>\n",
       "      <th>ride_duration_int</th>\n",
       "    </tr>\n",
       "  </thead>\n",
       "  <tbody>\n",
       "    <tr>\n",
       "      <th>0</th>\n",
       "      <td>10.85</td>\n",
       "    </tr>\n",
       "    <tr>\n",
       "      <th>1</th>\n",
       "      <td>8.48</td>\n",
       "    </tr>\n",
       "    <tr>\n",
       "      <th>2</th>\n",
       "      <td>13.23</td>\n",
       "    </tr>\n",
       "    <tr>\n",
       "      <th>3</th>\n",
       "      <td>8.77</td>\n",
       "    </tr>\n",
       "    <tr>\n",
       "      <th>4</th>\n",
       "      <td>15.32</td>\n",
       "    </tr>\n",
       "    <tr>\n",
       "      <th>...</th>\n",
       "      <td>...</td>\n",
       "    </tr>\n",
       "    <tr>\n",
       "      <th>639419</th>\n",
       "      <td>6.38</td>\n",
       "    </tr>\n",
       "    <tr>\n",
       "      <th>639420</th>\n",
       "      <td>26.05</td>\n",
       "    </tr>\n",
       "    <tr>\n",
       "      <th>639421</th>\n",
       "      <td>2.58</td>\n",
       "    </tr>\n",
       "    <tr>\n",
       "      <th>639422</th>\n",
       "      <td>7.10</td>\n",
       "    </tr>\n",
       "    <tr>\n",
       "      <th>639423</th>\n",
       "      <td>5.73</td>\n",
       "    </tr>\n",
       "  </tbody>\n",
       "</table>\n",
       "<p>639001 rows × 1 columns</p>\n",
       "</div>"
      ],
      "text/plain": [
       "        ride_duration_int\n",
       "0                   10.85\n",
       "1                    8.48\n",
       "2                   13.23\n",
       "3                    8.77\n",
       "4                   15.32\n",
       "...                   ...\n",
       "639419               6.38\n",
       "639420              26.05\n",
       "639421               2.58\n",
       "639422               7.10\n",
       "639423               5.73\n",
       "\n",
       "[639001 rows x 1 columns]"
      ]
     },
     "execution_count": 26,
     "metadata": {},
     "output_type": "execute_result"
    }
   ],
   "source": [
    "df0[[\"ride_duration_int\"]]"
   ]
  },
  {
   "cell_type": "code",
   "execution_count": 27,
   "metadata": {},
   "outputs": [
    {
     "data": {
      "text/plain": [
       "ride_id                             object\n",
       "rideable_type                       object\n",
       "started_at                  datetime64[ns]\n",
       "ended_at                    datetime64[ns]\n",
       "start_station_name                  object\n",
       "start_station_id                    object\n",
       "end_station_name                    object\n",
       "end_station_id                      object\n",
       "start_lat                          float64\n",
       "start_lng                          float64\n",
       "end_lat                            float64\n",
       "end_lng                            float64\n",
       "member_casual                       object\n",
       "ride_length                timedelta64[ns]\n",
       "day_of_week                          int64\n",
       "anomaly_period_negative               bool\n",
       "anomaly_period_positive               bool\n",
       "anomaly_period_zero                   bool\n",
       "ride_duration_str                   object\n",
       "hour                               float64\n",
       "minute                             float64\n",
       "second                             float64\n",
       "ride_duration_int                  float64\n",
       "dtype: object"
      ]
     },
     "execution_count": 27,
     "metadata": {},
     "output_type": "execute_result"
    }
   ],
   "source": [
    "df0.dtypes"
   ]
  },
  {
   "cell_type": "code",
   "execution_count": 28,
   "metadata": {},
   "outputs": [],
   "source": [
    "df0 = df0.drop([\"second\", \"minute\", \"hour\", \"ride_duration_str\", \"anomaly_period_zero\", \"anomaly_period_negative\", \"anomaly_period_positive\"], axis = 1)"
   ]
  },
  {
   "cell_type": "code",
   "execution_count": 29,
   "metadata": {},
   "outputs": [
    {
     "data": {
      "text/plain": [
       "Index(['ride_id', 'rideable_type', 'started_at', 'ended_at',\n",
       "       'start_station_name', 'start_station_id', 'end_station_name',\n",
       "       'end_station_id', 'start_lat', 'start_lng', 'end_lat', 'end_lng',\n",
       "       'member_casual', 'ride_length', 'day_of_week', 'ride_duration_int'],\n",
       "      dtype='object')"
      ]
     },
     "execution_count": 29,
     "metadata": {},
     "output_type": "execute_result"
    }
   ],
   "source": [
    "df0.columns"
   ]
  },
  {
   "cell_type": "markdown",
   "metadata": {},
   "source": [
    "# Analyze"
   ]
  },
  {
   "cell_type": "code",
   "execution_count": 30,
   "metadata": {},
   "outputs": [],
   "source": [
    "df0.to_csv(r\"C:/Users/burak/OneDrive/Masaüstü/Google Data Analytics/updated.csv\", index = False)"
   ]
  },
  {
   "cell_type": "code",
   "execution_count": 44,
   "metadata": {},
   "outputs": [
    {
     "data": {
      "text/plain": [
       "start_station_name\n",
       "University Ave & 57th St        4976\n",
       "Ellis Ave & 60th St             4836\n",
       "Clinton St & Washington Blvd    4499\n",
       "Kingsbury St & Kinzie St        4095\n",
       "Clark St & Elm St               3674\n",
       "Canal St & Adams St             3487\n",
       "Clinton St & Madison St         3386\n",
       "State St & Chicago Ave          3319\n",
       "Ellis Ave & 55th St             3306\n",
       "Loomis St & Lexington St        3157\n",
       "Name: start_station_name, dtype: int64"
      ]
     },
     "execution_count": 44,
     "metadata": {},
     "output_type": "execute_result"
    }
   ],
   "source": [
    "# The most preferred starting point for member users\n",
    "df0[df0[\"member_casual\"] == \"member\"].groupby(\"start_station_name\")[\"start_station_name\"].count().sort_values(ascending=False).head(10)"
   ]
  },
  {
   "cell_type": "code",
   "execution_count": 45,
   "metadata": {},
   "outputs": [
    {
     "data": {
      "text/plain": [
       "end_station_name\n",
       "University Ave & 57th St        4945\n",
       "Clinton St & Washington Blvd    4921\n",
       "Ellis Ave & 60th St             4758\n",
       "Kingsbury St & Kinzie St        4189\n",
       "Clinton St & Madison St         3662\n",
       "Clark St & Elm St               3578\n",
       "Canal St & Adams St             3552\n",
       "Ellis Ave & 55th St             3384\n",
       "State St & Chicago Ave          3353\n",
       "Loomis St & Lexington St        3293\n",
       "Name: end_station_name, dtype: int64"
      ]
     },
     "execution_count": 45,
     "metadata": {},
     "output_type": "execute_result"
    }
   ],
   "source": [
    "# The most preferred ending point for member users\n",
    "df0[df0[\"member_casual\"] == \"member\"].groupby(\"end_station_name\")[\"end_station_name\"].count().sort_values(ascending=False).head(10)"
   ]
  },
  {
   "cell_type": "code",
   "execution_count": 46,
   "metadata": {},
   "outputs": [
    {
     "data": {
      "text/plain": [
       "start_station_name\n",
       "Streeter Dr & Grand Ave              1626\n",
       "Shedd Aquarium                       1295\n",
       "DuSable Lake Shore Dr & Monroe St    1281\n",
       "Millennium Park                      1067\n",
       "University Ave & 57th St              929\n",
       "Ellis Ave & 60th St                   906\n",
       "Wells St & Concord Ln                 887\n",
       "Kingsbury St & Kinzie St              836\n",
       "Sheffield Ave & Fullerton Ave         826\n",
       "LaSalle St & Illinois St              773\n",
       "Name: start_station_name, dtype: int64"
      ]
     },
     "execution_count": 46,
     "metadata": {},
     "output_type": "execute_result"
    }
   ],
   "source": [
    "# The most preferred starting point for casual users\n",
    "df0[df0[\"member_casual\"] == \"casual\"].groupby(\"start_station_name\")[\"start_station_name\"].count().sort_values(ascending=False).head(10)"
   ]
  },
  {
   "cell_type": "code",
   "execution_count": 47,
   "metadata": {},
   "outputs": [
    {
     "data": {
      "text/plain": [
       "end_station_name\n",
       "Streeter Dr & Grand Ave              1872\n",
       "Millennium Park                      1230\n",
       "Shedd Aquarium                       1021\n",
       "University Ave & 57th St              962\n",
       "DuSable Lake Shore Dr & Monroe St     924\n",
       "Wells St & Concord Ln                 894\n",
       "Ellis Ave & 60th St                   870\n",
       "Michigan Ave & Washington St          868\n",
       "LaSalle St & Illinois St              824\n",
       "Broadway & Barry Ave                  809\n",
       "Name: end_station_name, dtype: int64"
      ]
     },
     "execution_count": 47,
     "metadata": {},
     "output_type": "execute_result"
    }
   ],
   "source": [
    "# The most preferred ending point for casual users\n",
    "df0[df0[\"member_casual\"] == \"casual\"].groupby(\"end_station_name\")[\"end_station_name\"].count().sort_values(ascending=False).head(10)"
   ]
  }
 ],
 "metadata": {
  "kernelspec": {
   "display_name": "Python 3",
   "language": "python",
   "name": "python3"
  },
  "language_info": {
   "codemirror_mode": {
    "name": "ipython",
    "version": 3
   },
   "file_extension": ".py",
   "mimetype": "text/x-python",
   "name": "python",
   "nbconvert_exporter": "python",
   "pygments_lexer": "ipython3",
   "version": "3.10.0"
  }
 },
 "nbformat": 4,
 "nbformat_minor": 2
}
